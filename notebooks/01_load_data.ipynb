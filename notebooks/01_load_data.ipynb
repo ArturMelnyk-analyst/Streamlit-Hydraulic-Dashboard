{
 "cells": [
  {
   "cell_type": "code",
   "execution_count": 1,
   "id": "58654454",
   "metadata": {},
   "outputs": [],
   "source": [
    "import os\n",
    "import pandas as pd\n",
    "\n",
    "def get_base_path():\n",
    "    if os.path.exists('/content/drive'):\n",
    "        from google.colab import drive\n",
    "        drive.mount('/content/drive')\n",
    "        return '/content/drive/MyDrive/hydraulic_project/data'\n",
    "    return '../data'  # For local use or GitHub\n",
    "\n",
    "base_path = get_base_path()\n"
   ]
  },
  {
   "cell_type": "code",
   "execution_count": 2,
   "id": "e51a836a",
   "metadata": {},
   "outputs": [],
   "source": [
    "def load_sensor(sensor_name):\n",
    "    file_path = os.path.join(base_path, f\"{sensor_name}.txt\")\n",
    "    if not os.path.exists(file_path):\n",
    "        print(f\"⚠️ File not found: {sensor_name}.txt\")\n",
    "        return None\n",
    "    df = pd.read_csv(file_path, sep='\\t', header=None)\n",
    "    df.columns = [f\"{sensor_name}_t{i+1}\" for i in range(df.shape[1])]\n",
    "    print(f\"✅ Loaded {sensor_name}.txt with shape {df.shape}\")\n",
    "    return df\n"
   ]
  },
  {
   "cell_type": "code",
   "execution_count": 3,
   "id": "02916f0d",
   "metadata": {},
   "outputs": [],
   "source": [
    "sensor_groups = {\n",
    "    'pressure': ['PS1', 'PS2', 'PS3', 'PS4', 'PS5', 'PS6'],\n",
    "    'motor_power': ['EPS1'],\n",
    "    'volume_flow': ['FS1', 'FS2'],\n",
    "    'temperature': ['TS1', 'TS2', 'TS3', 'TS4'],\n",
    "    'vibration': ['VS1'],\n",
    "    'cooling': ['CE', 'CP'],\n",
    "    'efficiency': ['SE']\n",
    "}\n"
   ]
  },
  {
   "cell_type": "code",
   "execution_count": 4,
   "id": "111fd4af",
   "metadata": {},
   "outputs": [
    {
     "name": "stdout",
     "output_type": "stream",
     "text": [
      "✅ Loaded PS1.txt with shape (2205, 6000)\n",
      "✅ Loaded PS2.txt with shape (2205, 6000)\n",
      "✅ Loaded PS3.txt with shape (2205, 6000)\n",
      "✅ Loaded PS4.txt with shape (2205, 6000)\n",
      "✅ Loaded PS5.txt with shape (2205, 6000)\n",
      "✅ Loaded PS6.txt with shape (2205, 6000)\n",
      "✅ Loaded EPS1.txt with shape (2205, 6000)\n",
      "✅ Loaded FS1.txt with shape (2205, 600)\n",
      "✅ Loaded FS2.txt with shape (2205, 600)\n",
      "✅ Loaded TS1.txt with shape (2205, 60)\n",
      "✅ Loaded TS2.txt with shape (2205, 60)\n",
      "✅ Loaded TS3.txt with shape (2205, 60)\n",
      "✅ Loaded TS4.txt with shape (2205, 60)\n",
      "✅ Loaded VS1.txt with shape (2205, 60)\n",
      "✅ Loaded CE.txt with shape (2205, 60)\n",
      "✅ Loaded CP.txt with shape (2205, 60)\n",
      "✅ Loaded SE.txt with shape (2205, 60)\n"
     ]
    }
   ],
   "source": [
    "sensor_data = {}\n",
    "\n",
    "for group, sensors in sensor_groups.items():\n",
    "    dfs = []\n",
    "    for sensor in sensors:\n",
    "        df = load_sensor(sensor)\n",
    "        if df is not None:\n",
    "            dfs.append(df)\n",
    "    if dfs:\n",
    "        sensor_data[group] = pd.concat(dfs, axis=1)\n"
   ]
  }
 ],
 "metadata": {
  "kernelspec": {
   "display_name": "Python 3 (ipykernel)",
   "language": "python",
   "name": "python3"
  },
  "language_info": {
   "codemirror_mode": {
    "name": "ipython",
    "version": 3
   },
   "file_extension": ".py",
   "mimetype": "text/x-python",
   "name": "python",
   "nbconvert_exporter": "python",
   "pygments_lexer": "ipython3",
   "version": "3.10.4"
  }
 },
 "nbformat": 4,
 "nbformat_minor": 5
}
